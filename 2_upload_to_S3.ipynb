{
 "cells": [
  {
   "cell_type": "code",
   "execution_count": 13,
   "id": "990cd21c",
   "metadata": {},
   "outputs": [],
   "source": [
    "import requests\n",
    "import re\n",
    "from bs4 import BeautifulSoup\n",
    "from urllib.parse import urljoin, urlparse\n",
    "from datetime import datetime\n",
    "import time\n",
    "from datetime import date\n",
    "import json\n",
    "import boto3"
   ]
  },
  {
   "cell_type": "code",
   "execution_count": 14,
   "id": "4e64abce",
   "metadata": {},
   "outputs": [
    {
     "name": "stdout",
     "output_type": "stream",
     "text": [
      "[{'Name': 'aws-emr-resources-229410852365-us-east-1', 'CreationDate': datetime.datetime(2022, 5, 21, 17, 38, 1, tzinfo=tzutc())}, {'Name': 'aws-logs-229410852365-us-east-1', 'CreationDate': datetime.datetime(2022, 5, 21, 17, 38, 1, tzinfo=tzutc())}, {'Name': 'lynette-dang-final-project-data', 'CreationDate': datetime.datetime(2022, 5, 28, 22, 45, 53, tzinfo=tzutc())}, {'Name': 'lynette-large-scale-computing-a2', 'CreationDate': datetime.datetime(2022, 5, 6, 3, 3, 49, tzinfo=tzutc())}, {'Name': 'mrjob-825487b9c8950d00', 'CreationDate': datetime.datetime(2022, 5, 8, 3, 56, 36, tzinfo=tzutc())}]\n"
     ]
    }
   ],
   "source": [
    "s3 = boto3.client('s3')\n",
    "s3_resource = boto3.resource('s3')\n",
    "iam_client = boto3.client('iam')\n",
    "role = iam_client.get_role(RoleName='LabRole')\n",
    "bucket = s3.create_bucket(Bucket='lynette-dang-final-project-data')\n",
    "# check if it's already there\n",
    "bucket_response = s3.list_buckets()\n",
    "buckets = bucket_response['Buckets']\n",
    "print(buckets)"
   ]
  },
  {
   "cell_type": "code",
   "execution_count": 15,
   "id": "87713afd",
   "metadata": {},
   "outputs": [
    {
     "name": "stdout",
     "output_type": "stream",
     "text": [
      "[{'Key': 'speech.csv', 'LastModified': datetime.datetime(2022, 5, 29, 22, 51, 56, tzinfo=tzutc()), 'ETag': '\"d044e864b1d633a8749269e982ee7839\"', 'Size': 2047401, 'StorageClass': 'STANDARD', 'Owner': {'DisplayName': 'awslabsc0w2626839t1627380901', 'ID': '2d8a03811a98d90d6b304f6bc4b184bc1dd6642c3a93abb7579e617aaced1a4c'}}]\n"
     ]
    }
   ],
   "source": [
    "s3.upload_file(Filename='df_tm.csv', \n",
    "               Bucket='lynette-dang-final-project-data',\n",
    "               Key = \"speech.csv\")\n",
    "response = s3.list_objects(\n",
    "            Bucket='lynette-dang-final-project-data',\n",
    "            MaxKeys=2)\n",
    "print(response['Contents'])"
   ]
  }
 ],
 "metadata": {
  "kernelspec": {
   "display_name": "Python 3 (ipykernel)",
   "language": "python",
   "name": "python3"
  },
  "language_info": {
   "codemirror_mode": {
    "name": "ipython",
    "version": 3
   },
   "file_extension": ".py",
   "mimetype": "text/x-python",
   "name": "python",
   "nbconvert_exporter": "python",
   "pygments_lexer": "ipython3",
   "version": "3.9.7"
  }
 },
 "nbformat": 4,
 "nbformat_minor": 5
}
